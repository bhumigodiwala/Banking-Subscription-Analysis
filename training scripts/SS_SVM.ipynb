{
 "cells": [
  {
   "cell_type": "code",
   "execution_count": 1,
   "id": "a6b9f54b",
   "metadata": {},
   "outputs": [],
   "source": [
    "import numpy as np\n",
    "import sklearn\n",
    "\n",
    "import pandas as pd\n",
    "from sklearn.model_selection import train_test_split\n",
    "from sklearn.linear_model import LogisticRegression\n",
    "from sklearn.metrics import accuracy_score, f1_score, confusion_matrix\n",
    "import seaborn as sns\n",
    "import matplotlib.pyplot as plt\n",
    "from sklearn.model_selection import KFold\n",
    "import copy\n",
    "from sklearn import preprocessing\n",
    "from sklearn.decomposition import PCA\n",
    "from sklearn.naive_bayes import GaussianNB\n",
    "from sklearn.ensemble import RandomForestClassifier\n",
    "from sklearn.semi_supervised import SelfTrainingClassifier, LabelPropagation, LabelSpreading\n",
    "\n",
    "#import mvlearn\n",
    "#from mvlearn.semi_supervised import CTClassifier"
   ]
  },
  {
   "cell_type": "code",
   "execution_count": 2,
   "id": "bde02d73",
   "metadata": {},
   "outputs": [],
   "source": [
    "from qns3vm.qns3vm import QN_S3VM\n",
    "import random\n",
    "import warnings\n",
    "warnings.filterwarnings('ignore')\n",
    "\n",
    "random.seed(42)"
   ]
  },
  {
   "cell_type": "code",
   "execution_count": 3,
   "id": "c2f6019c",
   "metadata": {},
   "outputs": [],
   "source": [
    "\"\"\"## Score Metrics - Accuracy, F1 score and Confusion Matrix\"\"\"\n",
    "\n",
    "# Function to calculate the required score metrics\n",
    "def score_metrics(actual_labels,predicted_labels, show = True):\n",
    "  \n",
    "  #Accuracy\n",
    "    sys_accuracy = accuracy_score(actual_labels,predicted_labels)\n",
    "\n",
    "  #F1 score\n",
    "    sys_f1_score = f1_score(actual_labels,predicted_labels, average='micro')\n",
    "    \n",
    "  #Confusion Matrix\n",
    "    sys_cf = confusion_matrix(actual_labels,predicted_labels)\n",
    "    \n",
    "    if(show):\n",
    "        print(\"Accuracy of system is \", sys_accuracy)\n",
    "        print(\"F1 score of system is \", sys_f1_score)\n",
    "        print(\"Confusion Matrix of system is \\n\", sys_cf)\n",
    "        sns.heatmap(sys_cf,annot = True)\n",
    "        \n",
    "    return sys_accuracy"
   ]
  },
  {
   "cell_type": "code",
   "execution_count": 4,
   "id": "8c80d71e",
   "metadata": {},
   "outputs": [],
   "source": [
    "# load the data\n",
    "df = pd.read_csv(\"bank-additional-full.csv\",\n",
    "                 delimiter=\";\", dtype=str)"
   ]
  },
  {
   "cell_type": "code",
   "execution_count": 5,
   "id": "387603a0",
   "metadata": {},
   "outputs": [],
   "source": [
    "# data cleaning\n",
    "df['y'].replace(['yes', 'no'],[-1, 1], inplace=True)\n",
    "df['age'] = pd.to_numeric(df['age'])\n",
    "df['job'].replace(['admin.','blue-collar','entrepreneur','housemaid','management','retired','self-employed','services','student','technician','unemployed','unknown'],[1,2,3,4,5,6,7,8,9,10,11,12], inplace = True)\n",
    "df['marital'].replace(['divorced','married','single','unknown'],[1,2,3,4],inplace = True)\n",
    "df['education'].replace(['basic.4y','basic.6y','basic.9y','high.school','illiterate','professional.course','university.degree','unknown'],[1,2,3,4,5,6,7,8],inplace = True)\n",
    "df['default'].replace(['no','yes','unknown'],[0,1,2],inplace = True)\n",
    "df['housing'].replace(['no','yes','unknown'],[0,1,2],inplace = True)\n",
    "df['loan'].replace(['no','yes','unknown'],[0,1,2],inplace = True)\n",
    "df['contact'].replace(['cellular','telephone'],[0,1],inplace = True)\n",
    "df['month'].replace(['jan', 'feb', 'mar','apr','may','jun','jul','aug','sep','oct','nov','dec'],[1,2,3,4,5,6,7,8,9,10,11,12],inplace = True)\n",
    "df['day_of_week'].replace(['mon','tue','wed','thu','fri'],[1,2,3,4,5],inplace=True)\n",
    "df['duration'] = pd.to_numeric(df['duration'])\n",
    "df['campaign'] = pd.to_numeric(df['campaign'])\n",
    "df['pdays'] = pd.to_numeric(df['pdays'])\n",
    "df['previous'] = pd.to_numeric(df['previous'])\n",
    "df['poutcome'].replace(['failure','success','nonexistent'],[1,2,3],inplace=True)\n",
    "df['emp.var.rate'] = pd.to_numeric(df['emp.var.rate'])\n",
    "df['cons.price.idx'] = pd.to_numeric(df['cons.price.idx'])\n",
    "df['cons.conf.idx'] = pd.to_numeric(df['cons.conf.idx'])\n",
    "df['euribor3m'] = pd.to_numeric(df['euribor3m'])\n",
    "df['nr.employed'] = pd.to_numeric(df['nr.employed'])"
   ]
  },
  {
   "cell_type": "code",
   "execution_count": 6,
   "id": "76138eb0",
   "metadata": {},
   "outputs": [],
   "source": [
    "df_train, df_test = train_test_split(df, test_size=0.2)\n",
    "df_train, df_val = train_test_split(df_train, test_size = 0.2)"
   ]
  },
  {
   "cell_type": "code",
   "execution_count": 7,
   "id": "623ca55c",
   "metadata": {},
   "outputs": [],
   "source": [
    "train_data = df_train.iloc[:,:-1]\n",
    "train_label = df_train.iloc[:,-1]\n",
    "\n",
    "val_data = df_val.iloc[:,:-1]\n",
    "val_label = df_val.iloc[:,:-1]\n",
    "\n",
    "test_data = df_test.iloc[:,:-1]\n",
    "test_label = df_test.iloc[:,-1]"
   ]
  },
  {
   "cell_type": "code",
   "execution_count": 8,
   "id": "d82ecf0f",
   "metadata": {},
   "outputs": [],
   "source": [
    "#Converting supervised data to semi supervised dataset\n",
    "train_labelled, train_unlabelled = train_test_split(df_train, test_size=0.6)\n",
    "train_data = train_labelled.iloc[:,:-1]\n",
    "train_label = train_labelled.iloc[:,-1]\n",
    "train_unlabelled = train_unlabelled.drop(columns = ['y'])"
   ]
  },
  {
   "cell_type": "code",
   "execution_count": 9,
   "id": "d68c56a0",
   "metadata": {},
   "outputs": [],
   "source": [
    "train_data_list = train_data.values.tolist()\n",
    "train_label_list = train_label.values.tolist()\n",
    "train_unlabelled_list = train_unlabelled.values.tolist()"
   ]
  },
  {
   "cell_type": "code",
   "execution_count": 10,
   "id": "c24c4c81",
   "metadata": {},
   "outputs": [],
   "source": [
    "s3vm_model = QN_S3VM(train_data_list,train_label_list,train_unlabelled_list,kernel_type='Linear',lam=1.0,random_generator = random.Random())"
   ]
  },
  {
   "cell_type": "code",
   "execution_count": 11,
   "id": "4aa7fe32",
   "metadata": {},
   "outputs": [],
   "source": [
    "unlabelled_pred = s3vm_model.train()"
   ]
  },
  {
   "cell_type": "code",
   "execution_count": 12,
   "id": "5b049cfa",
   "metadata": {},
   "outputs": [],
   "source": [
    "test_pred = s3vm_model.getPredictions(test_data.values.tolist())"
   ]
  },
  {
   "cell_type": "code",
   "execution_count": 13,
   "id": "9dc336e0",
   "metadata": {},
   "outputs": [
    {
     "name": "stdout",
     "output_type": "stream",
     "text": [
      "Accuracy of system is  0.8990046127700898\n",
      "F1 score of system is  0.8990046127700898\n",
      "Confusion Matrix of system is \n",
      " [[ 187  697]\n",
      " [ 135 7219]]\n"
     ]
    },
    {
     "data": {
      "text/plain": [
       "0.8990046127700898"
      ]
     },
     "execution_count": 13,
     "metadata": {},
     "output_type": "execute_result"
    },
    {
     "data": {
      "image/png": "[encoded data removed]",
      "text/plain": [
       "<Figure size 432x288 with 2 Axes>"
      ]
     },
     "metadata": {
      "needs_background": "light"
     },
     "output_type": "display_data"
    }
   ],
   "source": [
    "score_metrics(test_label.values.tolist(),test_pred)"
   ]
  },
  {
   "cell_type": "code",
   "execution_count": 19,
   "id": "d92a8eae",
   "metadata": {},
   "outputs": [],
   "source": [
    "import joblib"
   ]
  },
  {
   "cell_type": "code",
   "execution_count": 29,
   "id": "79dc9fb1",
   "metadata": {},
   "outputs": [],
   "source": [
    "np.savez('s3vm_results.npz',name1 = test_label.to_numpy(),name2 = np.array(test_pred))"
   ]
  },
  {
   "cell_type": "code",
   "execution_count": 26,
   "id": "5b88b9c7",
   "metadata": {},
   "outputs": [
    {
     "name": "stdout",
     "output_type": "stream",
     "text": [
      "Accuracy of system is  0.8990046127700898\n",
      "F1 score of system is  0.8990046127700898\n",
      "Confusion Matrix of system is \n",
      " [[ 187  697]\n",
      " [ 135 7219]]\n"
     ]
    },
    {
     "data": {
      "text/plain": [
       "0.8990046127700898"
      ]
     },
     "execution_count": 26,
     "metadata": {},
     "output_type": "execute_result"
    },
    {
     "data": {
      "image/png": "[encoded data removed]",
      "text/plain": [
       "<Figure size 432x288 with 2 Axes>"
      ]
     },
     "metadata": {
      "needs_background": "light"
     },
     "output_type": "display_data"
    }
   ],
   "source": [
    "score_metrics(test_label.to_numpy(),np.array(test_pred))"
   ]
  },
  {
   "cell_type": "code",
   "execution_count": null,
   "id": "ece991de",
   "metadata": {},
   "outputs": [],
   "source": []
  },
  {
   "cell_type": "code",
   "execution_count": null,
   "id": "ccddcf2b",
   "metadata": {},
   "outputs": [],
   "source": []
  },
  {
   "cell_type": "code",
   "execution_count": null,
   "id": "3d53decc",
   "metadata": {},
   "outputs": [],
   "source": []
  },
  {
   "cell_type": "code",
   "execution_count": null,
   "id": "1ffef2f7",
   "metadata": {},
   "outputs": [],
   "source": []
  },
  {
   "cell_type": "code",
   "execution_count": null,
   "id": "f64dcb0e",
   "metadata": {},
   "outputs": [],
   "source": []
  },
  {
   "cell_type": "code",
   "execution_count": null,
   "id": "0b476320",
   "metadata": {},
   "outputs": [],
   "source": []
  },
  {
   "cell_type": "code",
   "execution_count": null,
   "id": "ca3c44a2",
   "metadata": {},
   "outputs": [],
   "source": []
  },
  {
   "cell_type": "code",
   "execution_count": null,
   "id": "b87ca752",
   "metadata": {},
   "outputs": [],
   "source": []
  },
  {
   "cell_type": "code",
   "execution_count": null,
   "id": "615f791f",
   "metadata": {},
   "outputs": [],
   "source": []
  },
  {
   "cell_type": "code",
   "execution_count": null,
   "id": "669a56ba",
   "metadata": {},
   "outputs": [],
   "source": []
  }
 ],
 "metadata": {
  "kernelspec": {
   "display_name": "Python 3 (ipykernel)",
   "language": "python",
   "name": "python3"
  },
  "language_info": {
   "codemirror_mode": {
    "name": "ipython",
    "version": 3
   },
   "file_extension": ".py",
   "mimetype": "text/x-python",
   "name": "python",
   "nbconvert_exporter": "python",
   "pygments_lexer": "ipython3",
   "version": "3.8.12"
  }
 },
 "nbformat": 4,
 "nbformat_minor": 5
}
